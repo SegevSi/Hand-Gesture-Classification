{
 "cells": [
  {
   "cell_type": "code",
   "execution_count": 2,
   "metadata": {},
   "outputs": [
    {
     "name": "stdout",
     "output_type": "stream",
     "text": [
      "scikit-learn version: 1.5.1\n",
      "OpenCV version: 4.10.0\n",
      "TensorFlow version: 2.16.2\n",
      "Pandas version: 2.2.2\n",
      "NumPy version: 1.26.4\n",
      "Mediapipe version: 0.10.14\n"
     ]
    }
   ],
   "source": [
    "%pip install scikit-learn opencv-python tensorflow pandas numpy mediapipe\n",
    "\n",
    "import sklearn\n",
    "import cv2\n",
    "import tensorflow as tf\n",
    "import pandas as pd\n",
    "import numpy as np\n",
    "import mediapipe as mp\n",
    "\n",
    "# Printing versions of installed libraries\n",
    "print(\"scikit-learn version:\", sklearn.__version__)\n",
    "print(\"OpenCV version:\", cv2.__version__)\n",
    "print(\"TensorFlow version:\", tf.__version__)\n",
    "print(\"Pandas version:\", pd.__version__)\n",
    "print(\"NumPy version:\", np.__version__)\n",
    "print(\"Mediapipe version:\", mp.__version__)\n",
    "\n",
    "# scikit-learn version: 1.5.1\n",
    "# OpenCV version: 4.10.0\n",
    "# TensorFlow version: 2.16.2\n",
    "# Pandas version: 2.2.2\n",
    "# NumPy version: 1.26.4\n",
    "# Mediapipe version: 0.10.14\n",
    "\n",
    "\n"
   ]
  },
  {
   "cell_type": "code",
   "execution_count": 1,
   "metadata": {},
   "outputs": [
    {
     "name": "stdout",
     "output_type": "stream",
     "text": [
      "<class 'pandas.core.frame.DataFrame'>\n",
      "RangeIndex: 11538 entries, 0 to 11537\n",
      "Data columns (total 63 columns):\n",
      " #   Column  Non-Null Count  Dtype  \n",
      "---  ------  --------------  -----  \n",
      " 0   x0      11538 non-null  float64\n",
      " 1   y0      11538 non-null  float64\n",
      " 2   z0      11538 non-null  float64\n",
      " 3   x1      11538 non-null  float64\n",
      " 4   y1      11538 non-null  float64\n",
      " 5   z1      11538 non-null  float64\n",
      " 6   x2      11538 non-null  float64\n",
      " 7   y2      11538 non-null  float64\n",
      " 8   z2      11538 non-null  float64\n",
      " 9   x3      11538 non-null  float64\n",
      " 10  y3      11538 non-null  float64\n",
      " 11  z3      11538 non-null  float64\n",
      " 12  x4      11538 non-null  float64\n",
      " 13  y4      11538 non-null  float64\n",
      " 14  z4      11538 non-null  float64\n",
      " 15  x5      11538 non-null  float64\n",
      " 16  y5      11538 non-null  float64\n",
      " 17  z5      11538 non-null  float64\n",
      " 18  x6      11538 non-null  float64\n",
      " 19  y6      11538 non-null  float64\n",
      " 20  z6      11538 non-null  float64\n",
      " 21  x7      11538 non-null  float64\n",
      " 22  y7      11538 non-null  float64\n",
      " 23  z7      11538 non-null  float64\n",
      " 24  x8      11538 non-null  float64\n",
      " 25  y8      11538 non-null  float64\n",
      " 26  z8      11538 non-null  float64\n",
      " 27  x9      11538 non-null  float64\n",
      " 28  y9      11538 non-null  float64\n",
      " 29  z9      11538 non-null  float64\n",
      " 30  x10     11538 non-null  float64\n",
      " 31  y10     11538 non-null  float64\n",
      " 32  z10     11538 non-null  float64\n",
      " 33  x11     11538 non-null  float64\n",
      " 34  y11     11538 non-null  float64\n",
      " 35  z11     11538 non-null  float64\n",
      " 36  x12     11538 non-null  float64\n",
      " 37  y12     11538 non-null  float64\n",
      " 38  z12     11538 non-null  float64\n",
      " 39  x13     11538 non-null  float64\n",
      " 40  y13     11538 non-null  float64\n",
      " 41  z13     11538 non-null  float64\n",
      " 42  x14     11538 non-null  float64\n",
      " 43  y14     11538 non-null  float64\n",
      " 44  z14     11538 non-null  float64\n",
      " 45  x15     11538 non-null  float64\n",
      " 46  y15     11538 non-null  float64\n",
      " 47  z15     11538 non-null  float64\n",
      " 48  x16     11538 non-null  float64\n",
      " 49  y16     11538 non-null  float64\n",
      " 50  z16     11538 non-null  float64\n",
      " 51  x17     11538 non-null  float64\n",
      " 52  y17     11538 non-null  float64\n",
      " 53  z17     11538 non-null  float64\n",
      " 54  x18     11538 non-null  float64\n",
      " 55  y18     11538 non-null  float64\n",
      " 56  z18     11538 non-null  float64\n",
      " 57  x19     11538 non-null  float64\n",
      " 58  y19     11538 non-null  float64\n",
      " 59  z19     11538 non-null  float64\n",
      " 60  x20     11538 non-null  float64\n",
      " 61  y20     11538 non-null  float64\n",
      " 62  z20     11538 non-null  float64\n",
      "dtypes: float64(63)\n",
      "memory usage: 5.5 MB\n"
     ]
    }
   ],
   "source": [
    "import pandas as pd \n",
    "from sklearn.model_selection import train_test_split\n",
    "\n",
    "\n",
    "\n",
    "files = [\"dislikes_data.csv\",\"likes_data.csv\",\"middle_finger_data.csv\",\"gun_data.csv\",\"all_good_data.csv\"]\n",
    "frames = [ pd.read_csv(f) for f in files ]\n",
    "data = pd.concat(frames,ignore_index=True)\n",
    "Y = data[\"type\"]\n",
    "X = data.drop(\"type\",axis = \"columns\")\n",
    "X.info()\n",
    "\n",
    "# Splitting the data into train and test sets\n",
    "x_train, x_test, y_train, y_test = train_test_split(X, Y, test_size=0.2, random_state=42)\n"
   ]
  },
  {
   "cell_type": "code",
   "execution_count": 8,
   "metadata": {},
   "outputs": [
    {
     "name": "stderr",
     "output_type": "stream",
     "text": [
      "c:\\Users\\hamra\\Desktop\\hand pose classification\\.venv\\lib\\site-packages\\keras\\src\\layers\\core\\dense.py:87: UserWarning: Do not pass an `input_shape`/`input_dim` argument to a layer. When using Sequential models, prefer using an `Input(shape)` object as the first layer in the model instead.\n",
      "  super().__init__(activity_regularizer=activity_regularizer, **kwargs)\n"
     ]
    },
    {
     "data": {
      "text/html": [
       "<pre style=\"white-space:pre;overflow-x:auto;line-height:normal;font-family:Menlo,'DejaVu Sans Mono',consolas,'Courier New',monospace\"><span style=\"font-weight: bold\">Model: \"sequential_6\"</span>\n",
       "</pre>\n"
      ],
      "text/plain": [
       "\u001b[1mModel: \"sequential_6\"\u001b[0m\n"
      ]
     },
     "metadata": {},
     "output_type": "display_data"
    },
    {
     "data": {
      "text/html": [
       "<pre style=\"white-space:pre;overflow-x:auto;line-height:normal;font-family:Menlo,'DejaVu Sans Mono',consolas,'Courier New',monospace\">┏━━━━━━━━━━━━━━━━━━━━━━━━━━━━━━━━━┳━━━━━━━━━━━━━━━━━━━━━━━━┳━━━━━━━━━━━━━━━┓\n",
       "┃<span style=\"font-weight: bold\"> Layer (type)                    </span>┃<span style=\"font-weight: bold\"> Output Shape           </span>┃<span style=\"font-weight: bold\">       Param # </span>┃\n",
       "┡━━━━━━━━━━━━━━━━━━━━━━━━━━━━━━━━━╇━━━━━━━━━━━━━━━━━━━━━━━━╇━━━━━━━━━━━━━━━┩\n",
       "│ dense_24 (<span style=\"color: #0087ff; text-decoration-color: #0087ff\">Dense</span>)                │ (<span style=\"color: #00d7ff; text-decoration-color: #00d7ff\">None</span>, <span style=\"color: #00af00; text-decoration-color: #00af00\">64</span>)             │         <span style=\"color: #00af00; text-decoration-color: #00af00\">4,096</span> │\n",
       "├─────────────────────────────────┼────────────────────────┼───────────────┤\n",
       "│ dense_25 (<span style=\"color: #0087ff; text-decoration-color: #0087ff\">Dense</span>)                │ (<span style=\"color: #00d7ff; text-decoration-color: #00d7ff\">None</span>, <span style=\"color: #00af00; text-decoration-color: #00af00\">32</span>)             │         <span style=\"color: #00af00; text-decoration-color: #00af00\">2,080</span> │\n",
       "├─────────────────────────────────┼────────────────────────┼───────────────┤\n",
       "│ dense_26 (<span style=\"color: #0087ff; text-decoration-color: #0087ff\">Dense</span>)                │ (<span style=\"color: #00d7ff; text-decoration-color: #00d7ff\">None</span>, <span style=\"color: #00af00; text-decoration-color: #00af00\">16</span>)             │           <span style=\"color: #00af00; text-decoration-color: #00af00\">528</span> │\n",
       "├─────────────────────────────────┼────────────────────────┼───────────────┤\n",
       "│ dense_27 (<span style=\"color: #0087ff; text-decoration-color: #0087ff\">Dense</span>)                │ (<span style=\"color: #00d7ff; text-decoration-color: #00d7ff\">None</span>, <span style=\"color: #00af00; text-decoration-color: #00af00\">5</span>)              │            <span style=\"color: #00af00; text-decoration-color: #00af00\">85</span> │\n",
       "└─────────────────────────────────┴────────────────────────┴───────────────┘\n",
       "</pre>\n"
      ],
      "text/plain": [
       "┏━━━━━━━━━━━━━━━━━━━━━━━━━━━━━━━━━┳━━━━━━━━━━━━━━━━━━━━━━━━┳━━━━━━━━━━━━━━━┓\n",
       "┃\u001b[1m \u001b[0m\u001b[1mLayer (type)                   \u001b[0m\u001b[1m \u001b[0m┃\u001b[1m \u001b[0m\u001b[1mOutput Shape          \u001b[0m\u001b[1m \u001b[0m┃\u001b[1m \u001b[0m\u001b[1m      Param #\u001b[0m\u001b[1m \u001b[0m┃\n",
       "┡━━━━━━━━━━━━━━━━━━━━━━━━━━━━━━━━━╇━━━━━━━━━━━━━━━━━━━━━━━━╇━━━━━━━━━━━━━━━┩\n",
       "│ dense_24 (\u001b[38;5;33mDense\u001b[0m)                │ (\u001b[38;5;45mNone\u001b[0m, \u001b[38;5;34m64\u001b[0m)             │         \u001b[38;5;34m4,096\u001b[0m │\n",
       "├─────────────────────────────────┼────────────────────────┼───────────────┤\n",
       "│ dense_25 (\u001b[38;5;33mDense\u001b[0m)                │ (\u001b[38;5;45mNone\u001b[0m, \u001b[38;5;34m32\u001b[0m)             │         \u001b[38;5;34m2,080\u001b[0m │\n",
       "├─────────────────────────────────┼────────────────────────┼───────────────┤\n",
       "│ dense_26 (\u001b[38;5;33mDense\u001b[0m)                │ (\u001b[38;5;45mNone\u001b[0m, \u001b[38;5;34m16\u001b[0m)             │           \u001b[38;5;34m528\u001b[0m │\n",
       "├─────────────────────────────────┼────────────────────────┼───────────────┤\n",
       "│ dense_27 (\u001b[38;5;33mDense\u001b[0m)                │ (\u001b[38;5;45mNone\u001b[0m, \u001b[38;5;34m5\u001b[0m)              │            \u001b[38;5;34m85\u001b[0m │\n",
       "└─────────────────────────────────┴────────────────────────┴───────────────┘\n"
      ]
     },
     "metadata": {},
     "output_type": "display_data"
    },
    {
     "data": {
      "text/html": [
       "<pre style=\"white-space:pre;overflow-x:auto;line-height:normal;font-family:Menlo,'DejaVu Sans Mono',consolas,'Courier New',monospace\"><span style=\"font-weight: bold\"> Total params: </span><span style=\"color: #00af00; text-decoration-color: #00af00\">6,789</span> (26.52 KB)\n",
       "</pre>\n"
      ],
      "text/plain": [
       "\u001b[1m Total params: \u001b[0m\u001b[38;5;34m6,789\u001b[0m (26.52 KB)\n"
      ]
     },
     "metadata": {},
     "output_type": "display_data"
    },
    {
     "data": {
      "text/html": [
       "<pre style=\"white-space:pre;overflow-x:auto;line-height:normal;font-family:Menlo,'DejaVu Sans Mono',consolas,'Courier New',monospace\"><span style=\"font-weight: bold\"> Trainable params: </span><span style=\"color: #00af00; text-decoration-color: #00af00\">6,789</span> (26.52 KB)\n",
       "</pre>\n"
      ],
      "text/plain": [
       "\u001b[1m Trainable params: \u001b[0m\u001b[38;5;34m6,789\u001b[0m (26.52 KB)\n"
      ]
     },
     "metadata": {},
     "output_type": "display_data"
    },
    {
     "data": {
      "text/html": [
       "<pre style=\"white-space:pre;overflow-x:auto;line-height:normal;font-family:Menlo,'DejaVu Sans Mono',consolas,'Courier New',monospace\"><span style=\"font-weight: bold\"> Non-trainable params: </span><span style=\"color: #00af00; text-decoration-color: #00af00\">0</span> (0.00 B)\n",
       "</pre>\n"
      ],
      "text/plain": [
       "\u001b[1m Non-trainable params: \u001b[0m\u001b[38;5;34m0\u001b[0m (0.00 B)\n"
      ]
     },
     "metadata": {},
     "output_type": "display_data"
    },
    {
     "name": "stdout",
     "output_type": "stream",
     "text": [
      "Epoch 1/10\n",
      "\u001b[1m73/73\u001b[0m \u001b[32m━━━━━━━━━━━━━━━━━━━━\u001b[0m\u001b[37m\u001b[0m \u001b[1m0s\u001b[0m 2ms/step p - loss: 1.6471 - sparse_categorical_accuracy: 0\n",
      " - val_f1_score: 0.2014\n",
      "\u001b[1m289/289\u001b[0m \u001b[32m━━━━━━━━━━━━━━━━━━━━\u001b[0m\u001b[37m\u001b[0m \u001b[1m2s\u001b[0m 3ms/step - loss: 1.6436 - sparse_categorical_accuracy: 0.2362 - val_loss: 1.5257 - val_sparse_categorical_accuracy: 0.3505\n",
      "Epoch 2/10\n",
      "\u001b[1m73/73\u001b[0m \u001b[32m━━━━━━━━━━━━━━━━━━━━\u001b[0m\u001b[37m\u001b[0m \u001b[1m0s\u001b[0m 882us/step - loss: 1.4392 - sparse_categorical_accuracy: 0.3\n",
      " - val_f1_score: 0.4825\n",
      "\u001b[1m289/289\u001b[0m \u001b[32m━━━━━━━━━━━━━━━━━━━━\u001b[0m\u001b[37m\u001b[0m \u001b[1m1s\u001b[0m 2ms/step - loss: 1.4246 - sparse_categorical_accuracy: 0.4052 - val_loss: 0.9767 - val_sparse_categorical_accuracy: 0.6269\n",
      "Epoch 3/10\n",
      "\u001b[1m73/73\u001b[0m \u001b[32m━━━━━━━━━━━━━━━━━━━━\u001b[0m\u001b[37m\u001b[0m \u001b[1m0s\u001b[0m 991us/step - loss: 0.8763 - sparse_categorical_accuracy: 0.6\n",
      " - val_f1_score: 0.8599\n",
      "\u001b[1m289/289\u001b[0m \u001b[32m━━━━━━━━━━━━━━━━━━━━\u001b[0m\u001b[37m\u001b[0m \u001b[1m1s\u001b[0m 2ms/step - loss: 0.8648 - sparse_categorical_accuracy: 0.6592 - val_loss: 0.6076 - val_sparse_categorical_accuracy: 0.8735\n",
      "Epoch 4/10\n",
      "\u001b[1m73/73\u001b[0m \u001b[32m━━━━━━━━━━━━━━━━━━━━\u001b[0m\u001b[37m\u001b[0m \u001b[1m0s\u001b[0m 1ms/step p - loss: 0.5609 - sparse_categorical_accuracy: 0.8\n",
      " - val_f1_score: 0.9023\n",
      "\u001b[1m289/289\u001b[0m \u001b[32m━━━━━━━━━━━━━━━━━━━━\u001b[0m\u001b[37m\u001b[0m \u001b[1m1s\u001b[0m 2ms/step - loss: 0.5600 - sparse_categorical_accuracy: 0.8441 - val_loss: 0.4270 - val_sparse_categorical_accuracy: 0.9068\n",
      "Epoch 5/10\n",
      "\u001b[1m73/73\u001b[0m \u001b[32m━━━━━━━━━━━━━━━━━━━━\u001b[0m\u001b[37m\u001b[0m \u001b[1m0s\u001b[0m 1ms/step p - loss: 0.4130 - sparse_categorical_accuracy: 0.8\n",
      " - val_f1_score: 0.9103\n",
      "\u001b[1m289/289\u001b[0m \u001b[32m━━━━━━━━━━━━━━━━━━━━\u001b[0m\u001b[37m\u001b[0m \u001b[1m1s\u001b[0m 2ms/step - loss: 0.4108 - sparse_categorical_accuracy: 0.8933 - val_loss: 0.3246 - val_sparse_categorical_accuracy: 0.9155\n",
      "Epoch 6/10\n",
      "\u001b[1m73/73\u001b[0m \u001b[32m━━━━━━━━━━━━━━━━━━━━\u001b[0m\u001b[37m\u001b[0m \u001b[1m0s\u001b[0m 1ms/step p - loss: 0.3176 - sparse_categorical_accuracy: 0.9\n",
      " - val_f1_score: 0.9156\n",
      "\u001b[1m289/289\u001b[0m \u001b[32m━━━━━━━━━━━━━━━━━━━━\u001b[0m\u001b[37m\u001b[0m \u001b[1m1s\u001b[0m 2ms/step - loss: 0.3165 - sparse_categorical_accuracy: 0.9124 - val_loss: 0.2740 - val_sparse_categorical_accuracy: 0.9203\n",
      "Epoch 7/10\n",
      "\u001b[1m73/73\u001b[0m \u001b[32m━━━━━━━━━━━━━━━━━━━━\u001b[0m\u001b[37m\u001b[0m \u001b[1m0s\u001b[0m 1ms/step p - loss: 0.2606 - sparse_categorical_accuracy: 0.9\n",
      " - val_f1_score: 0.9330\n",
      "\u001b[1m289/289\u001b[0m \u001b[32m━━━━━━━━━━━━━━━━━━━━\u001b[0m\u001b[37m\u001b[0m \u001b[1m1s\u001b[0m 2ms/step - loss: 0.2594 - sparse_categorical_accuracy: 0.9297 - val_loss: 0.2249 - val_sparse_categorical_accuracy: 0.9363\n",
      "Epoch 8/10\n",
      "\u001b[1m73/73\u001b[0m \u001b[32m━━━━━━━━━━━━━━━━━━━━\u001b[0m\u001b[37m\u001b[0m \u001b[1m0s\u001b[0m 679us/step - loss: 0.2233 - sparse_categorical_accuracy: 0.939\n",
      " - val_f1_score: 0.9541\n",
      "\u001b[1m289/289\u001b[0m \u001b[32m━━━━━━━━━━━━━━━━━━━━\u001b[0m\u001b[37m\u001b[0m \u001b[1m1s\u001b[0m 2ms/step - loss: 0.2223 - sparse_categorical_accuracy: 0.9395 - val_loss: 0.1813 - val_sparse_categorical_accuracy: 0.9558\n",
      "Epoch 9/10\n",
      "\u001b[1m73/73\u001b[0m \u001b[32m━━━━━━━━━━━━━━━━━━━━\u001b[0m\u001b[37m\u001b[0m \u001b[1m0s\u001b[0m 876us/step - loss: 0.2115 - sparse_categorical_accuracy: 0.9\n",
      " - val_f1_score: 0.9550\n",
      "\u001b[1m289/289\u001b[0m \u001b[32m━━━━━━━━━━━━━━━━━━━━\u001b[0m\u001b[37m\u001b[0m \u001b[1m1s\u001b[0m 2ms/step - loss: 0.2099 - sparse_categorical_accuracy: 0.9362 - val_loss: 0.1638 - val_sparse_categorical_accuracy: 0.9567\n",
      "Epoch 10/10\n",
      "\u001b[1m73/73\u001b[0m \u001b[32m━━━━━━━━━━━━━━━━━━━━\u001b[0m\u001b[37m\u001b[0m \u001b[1m0s\u001b[0m 1ms/step p - loss: 0.1763 - sparse_categorical_accuracy: 0.9\n",
      " - val_f1_score: 0.9468\n",
      "\u001b[1m289/289\u001b[0m \u001b[32m━━━━━━━━━━━━━━━━━━━━\u001b[0m\u001b[37m\u001b[0m \u001b[1m1s\u001b[0m 2ms/step - loss: 0.1760 - sparse_categorical_accuracy: 0.9561 - val_loss: 0.1646 - val_sparse_categorical_accuracy: 0.9493\n",
      "\u001b[1m73/73\u001b[0m \u001b[32m━━━━━━━━━━━━━━━━━━━━\u001b[0m\u001b[37m\u001b[0m \u001b[1m0s\u001b[0m 1ms/step - loss: 0.1520 - sparse_categorical_accuracy: 0.9492\n",
      "Test Loss: 0.1646164059638977\n",
      "Test Accuracy: 0.9493067860603333\n",
      "\u001b[1m73/73\u001b[0m \u001b[32m━━━━━━━━━━━━━━━━━━━━\u001b[0m\u001b[37m\u001b[0m \u001b[1m0s\u001b[0m 1ms/step\n",
      "Test F1 Score: 0.9467734813662171\n"
     ]
    }
   ],
   "source": [
    "import tensorflow as tf\n",
    "from tensorflow.keras.models import Sequential\n",
    "from tensorflow.keras.layers import Dense\n",
    "from sklearn.metrics import f1_score\n",
    "\n",
    "class F1ScoreCallback(tf.keras.callbacks.Callback):\n",
    "    def __init__(self, validation_data):\n",
    "        self.validation_data = validation_data\n",
    "\n",
    "    def on_epoch_end(self, epoch, logs=None):\n",
    "        val_predict = (np.asarray(self.model.predict(self.validation_data[0]))).argmax(axis=1)\n",
    "        val_target = self.validation_data[1]\n",
    "        f1 = f1_score(val_target, val_predict, average='macro')\n",
    "        print(f' - val_f1_score: {f1:.4f}')\n",
    "\n",
    "# Define the model\n",
    "model = Sequential()\n",
    "\n",
    "# Add input layer (input_shape is (63,))\n",
    "model.add(Dense(64, activation='sigmoid', input_shape=(63,)))\n",
    "\n",
    "# Add hidden layers\n",
    "model.add(Dense(32, activation='sigmoid'))\n",
    "model.add(Dense(16, activation='sigmoid'))\n",
    "\n",
    "# Add output layer with 5 units\n",
    "model.add(Dense(5, activation='softmax'))\n",
    "\n",
    "# Compile the model\n",
    "model.compile(\n",
    "    optimizer='adam',\n",
    "    loss='sparse_categorical_crossentropy',\n",
    "    metrics=['sparse_categorical_accuracy']\n",
    ")\n",
    "\n",
    "# Print the model summary\n",
    "model.summary()\n",
    "\n",
    "\n",
    "# Train the model\n",
    "model.fit(x_train, y_train, epochs=10, batch_size=32, validation_data=(x_test, y_test), callbacks=[F1ScoreCallback(validation_data=(x_test, y_test))])\n",
    "\n",
    "# Evaluate the model\n",
    "loss, accuracy = model.evaluate(x_test, y_test)\n",
    "\n",
    "print(f\"Test Loss: {loss}\")\n",
    "print(f\"Test Accuracy: {accuracy}\")\n",
    "\n",
    "# Calculate F1 score on test data\n",
    "y_pred = model.predict(x_test).argmax(axis=1)\n",
    "f1 = f1_score(y_test, y_pred, average='macro')\n",
    "print(f\"Test F1 Score: {f1}\")\n"
   ]
  },
  {
   "cell_type": "code",
   "execution_count": 9,
   "metadata": {},
   "outputs": [],
   "source": [
    "model.save(\"hand_pose_clc.keras\")"
   ]
  }
 ],
 "metadata": {
  "kernelspec": {
   "display_name": "venv",
   "language": "python",
   "name": "python3"
  },
  "language_info": {
   "codemirror_mode": {
    "name": "ipython",
    "version": 3
   },
   "file_extension": ".py",
   "mimetype": "text/x-python",
   "name": "python",
   "nbconvert_exporter": "python",
   "pygments_lexer": "ipython3",
   "version": "3.10.4"
  }
 },
 "nbformat": 4,
 "nbformat_minor": 2
}
